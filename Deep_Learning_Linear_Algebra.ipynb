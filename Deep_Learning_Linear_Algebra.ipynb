{
  "nbformat": 4,
  "nbformat_minor": 0,
  "metadata": {
    "colab": {
      "provenance": [],
      "authorship_tag": "ABX9TyOeyBvfhiP6xHhKPit4vHVp",
      "include_colab_link": true
    },
    "kernelspec": {
      "name": "python3",
      "display_name": "Python 3"
    },
    "language_info": {
      "name": "python"
    }
  },
  "cells": [
    {
      "cell_type": "markdown",
      "metadata": {
        "id": "view-in-github",
        "colab_type": "text"
      },
      "source": [
        "<a href=\"https://colab.research.google.com/github/Adeelzafar/DeepLearning-Book/blob/main/Deep_Learning_Linear_Algebra.ipynb\" target=\"_parent\"><img src=\"https://colab.research.google.com/assets/colab-badge.svg\" alt=\"Open In Colab\"/></a>"
      ]
    },
    {
      "cell_type": "code",
      "execution_count": 2,
      "metadata": {
        "id": "9vfNtfwrTUdy"
      },
      "outputs": [],
      "source": [
        "import numpy as np\n",
        "import math"
      ]
    },
    {
      "cell_type": "code",
      "source": [
        "scalar = [[5]]\n",
        "print(scalar)"
      ],
      "metadata": {
        "colab": {
          "base_uri": "https://localhost:8080/"
        },
        "id": "UHG72u_tVZrQ",
        "outputId": "b78df196-9433-4fd8-8cc3-7025bfc75443"
      },
      "execution_count": 12,
      "outputs": [
        {
          "output_type": "stream",
          "name": "stdout",
          "text": [
            "[[5]]\n"
          ]
        }
      ]
    },
    {
      "cell_type": "code",
      "source": [
        "vector = [1,2,3]\n",
        "print(vector)"
      ],
      "metadata": {
        "colab": {
          "base_uri": "https://localhost:8080/"
        },
        "id": "ybuAUfulVjuw",
        "outputId": "34461dbb-f272-43d3-8565-278ce3d3e20d"
      },
      "execution_count": 13,
      "outputs": [
        {
          "output_type": "stream",
          "name": "stdout",
          "text": [
            "[1, 2, 3]\n"
          ]
        }
      ]
    },
    {
      "cell_type": "code",
      "source": [
        "matrix = [[1,2],[3,4]]\n",
        "print(matrix)"
      ],
      "metadata": {
        "colab": {
          "base_uri": "https://localhost:8080/"
        },
        "id": "Kjlj7Gg5X26Z",
        "outputId": "12e94ba9-dad8-43b1-caff-cc46400d54b2"
      },
      "execution_count": 14,
      "outputs": [
        {
          "output_type": "stream",
          "name": "stdout",
          "text": [
            "[[1, 2], [3, 4]]\n"
          ]
        }
      ]
    },
    {
      "cell_type": "code",
      "source": [
        "tensor = [[[1,2]\n",
        "          ,[3,4]]\n",
        "         ,[[5,6]\n",
        "          ,[7,8]]]\n",
        "tensor #array with more than 2 axes"
      ],
      "metadata": {
        "colab": {
          "base_uri": "https://localhost:8080/"
        },
        "id": "-Dkp-1uQYG69",
        "outputId": "7b579435-4287-43e0-ccef-c2a312edfce5"
      },
      "execution_count": 15,
      "outputs": [
        {
          "output_type": "execute_result",
          "data": {
            "text/plain": [
              "[[[1, 2], [3, 4]], [[5, 6], [7, 8]]]"
            ]
          },
          "metadata": {},
          "execution_count": 15
        }
      ]
    },
    {
      "cell_type": "code",
      "source": [
        "print(np.array(scalar).shape)\n",
        "print(np.array(vector).shape)\n",
        "print(np.array(matrix).shape)\n",
        "print(np.array(tensor).shape)\n",
        "\n"
      ],
      "metadata": {
        "colab": {
          "base_uri": "https://localhost:8080/"
        },
        "id": "xCuKBnAfYScx",
        "outputId": "0c380e20-6b06-4c49-cb10-ce2fcc8d1212"
      },
      "execution_count": 16,
      "outputs": [
        {
          "output_type": "stream",
          "name": "stdout",
          "text": [
            "(1, 1)\n",
            "(3,)\n",
            "(2, 2)\n",
            "(2, 2, 2)\n"
          ]
        }
      ]
    },
    {
      "cell_type": "code",
      "source": [
        "A = np.array([[1,2],[3,4],[5,6]])\n",
        "B = np.array([[2,4,6],[1,2,3]])\n",
        "C = np.matmul(A,B) # matmul refers to matrix multiplication\n",
        "C"
      ],
      "metadata": {
        "colab": {
          "base_uri": "https://localhost:8080/"
        },
        "id": "mxKNbdhvYVYN",
        "outputId": "fa585d7b-9ad8-4f03-9a06-8466f43e388b"
      },
      "execution_count": 17,
      "outputs": [
        {
          "output_type": "execute_result",
          "data": {
            "text/plain": [
              "array([[ 4,  8, 12],\n",
              "       [10, 20, 30],\n",
              "       [16, 32, 48]])"
            ]
          },
          "metadata": {},
          "execution_count": 17
        }
      ]
    },
    {
      "cell_type": "code",
      "source": [
        "#Addition of arrays\n",
        "print(B+C) #error would arise as the shapes arent similar"
      ],
      "metadata": {
        "colab": {
          "base_uri": "https://localhost:8080/",
          "height": 189
        },
        "id": "f1nJ6DX9Yuux",
        "outputId": "0f7abb33-0fe0-47e6-fbb7-8dad5195ca75"
      },
      "execution_count": 18,
      "outputs": [
        {
          "output_type": "error",
          "ename": "ValueError",
          "evalue": "ignored",
          "traceback": [
            "\u001b[0;31m---------------------------------------------------------------------------\u001b[0m",
            "\u001b[0;31mValueError\u001b[0m                                Traceback (most recent call last)",
            "\u001b[0;32m<ipython-input-18-73b84be0e784>\u001b[0m in \u001b[0;36m<module>\u001b[0;34m\u001b[0m\n\u001b[1;32m      1\u001b[0m \u001b[0;31m#Addition of arrays\u001b[0m\u001b[0;34m\u001b[0m\u001b[0;34m\u001b[0m\u001b[0;34m\u001b[0m\u001b[0m\n\u001b[0;32m----> 2\u001b[0;31m \u001b[0mprint\u001b[0m\u001b[0;34m(\u001b[0m\u001b[0mB\u001b[0m\u001b[0;34m+\u001b[0m\u001b[0mC\u001b[0m\u001b[0;34m)\u001b[0m \u001b[0;31m#error would arise as the shapes arent similar\u001b[0m\u001b[0;34m\u001b[0m\u001b[0;34m\u001b[0m\u001b[0m\n\u001b[0m",
            "\u001b[0;31mValueError\u001b[0m: operands could not be broadcast together with shapes (2,3) (3,3) "
          ]
        }
      ]
    },
    {
      "cell_type": "code",
      "source": [
        "# A*(B*C) == (A*B)*C the associative property of matrices\n",
        "np.matmul(A,np.matmul(B,C)) == np.matmul(C,np.matmul(A,B))"
      ],
      "metadata": {
        "colab": {
          "base_uri": "https://localhost:8080/"
        },
        "id": "OpF6HyY6id1G",
        "outputId": "f6412901-dc42-41da-ad1e-f80594a0100d"
      },
      "execution_count": 19,
      "outputs": [
        {
          "output_type": "execute_result",
          "data": {
            "text/plain": [
              "array([[ True,  True,  True],\n",
              "       [ True,  True,  True],\n",
              "       [ True,  True,  True]])"
            ]
          },
          "metadata": {},
          "execution_count": 19
        }
      ]
    },
    {
      "cell_type": "code",
      "source": [
        "#matrix multiplication is not commutative always\n",
        "# however the dot product is commutative\n",
        "np.matmul(A,B) == np.matmul(B,A)\n"
      ],
      "metadata": {
        "colab": {
          "base_uri": "https://localhost:8080/"
        },
        "id": "GG_3w3dDiiWo",
        "outputId": "af63ff1a-ff2a-4606-922e-9509b21d801f"
      },
      "execution_count": 20,
      "outputs": [
        {
          "output_type": "stream",
          "name": "stderr",
          "text": [
            "<ipython-input-20-303c15665b9b>:3: DeprecationWarning: elementwise comparison failed; this will raise an error in the future.\n",
            "  np.matmul(A,B) == np.matmul(B,A)\n"
          ]
        },
        {
          "output_type": "execute_result",
          "data": {
            "text/plain": [
              "False"
            ]
          },
          "metadata": {},
          "execution_count": 20
        }
      ]
    },
    {
      "cell_type": "code",
      "source": [
        "#Transpose of a matrix\n",
        "# transpose flips a matrix alongside its diagonal\n",
        "print(f\"A={A}\\nTranspose of A={np.transpose(A)}\")"
      ],
      "metadata": {
        "colab": {
          "base_uri": "https://localhost:8080/"
        },
        "id": "6bh8v03finB_",
        "outputId": "05c16cfd-2532-4b17-a314-58caf2598096"
      },
      "execution_count": 21,
      "outputs": [
        {
          "output_type": "stream",
          "name": "stdout",
          "text": [
            "A=[[1 2]\n",
            " [3 4]\n",
            " [5 6]]\n",
            "Transpose of A=[[1 3 5]\n",
            " [2 4 6]]\n"
          ]
        }
      ]
    },
    {
      "cell_type": "code",
      "source": [
        "A = np.array([[1,2],[3,4]])\n",
        "Identity = np.matmul(np.invert(A),A) # you dont use the invert function to calculate the inverse\n",
        "Identity "
      ],
      "metadata": {
        "colab": {
          "base_uri": "https://localhost:8080/"
        },
        "id": "pgZAYo6bip3r",
        "outputId": "38f7baeb-04e8-43a8-9ea5-421b2302c861"
      },
      "execution_count": 22,
      "outputs": [
        {
          "output_type": "execute_result",
          "data": {
            "text/plain": [
              "array([[-11, -16],\n",
              "       [-19, -28]])"
            ]
          },
          "metadata": {},
          "execution_count": 22
        }
      ]
    },
    {
      "cell_type": "code",
      "source": [
        "Identity = np.matmul(np.linalg.inv(A),A) \n",
        "Identity # it still isnt the identity matrix , cause of the multiplication processes (float values are never really the same)\n"
      ],
      "metadata": {
        "colab": {
          "base_uri": "https://localhost:8080/"
        },
        "id": "4xbr6rD1i6e2",
        "outputId": "b866cfa8-78a6-4624-f9aa-a3c720ec8169"
      },
      "execution_count": 23,
      "outputs": [
        {
          "output_type": "execute_result",
          "data": {
            "text/plain": [
              "array([[1.00000000e+00, 0.00000000e+00],\n",
              "       [1.11022302e-16, 1.00000000e+00]])"
            ]
          },
          "metadata": {},
          "execution_count": 23
        }
      ]
    },
    {
      "cell_type": "code",
      "source": [
        "# Linear Dependence and Span:\n",
        "#linear combination\n",
        "v1 = np.array([0, 0, 1])\n",
        "v2 = np.array([1,0,0])\n",
        "v3 = np.array([0, 1, 0])\n",
        "X = ([v1,v2,v3])\n",
        "y = ([1,2,3])\n",
        "scalars = np.linalg.solve(X,y) #v1*1 + v2*2 + v3*3 is the linear combination \n",
        "scalars\n"
      ],
      "metadata": {
        "colab": {
          "base_uri": "https://localhost:8080/"
        },
        "id": "7oJYv_NRjCFs",
        "outputId": "732c58d8-ce9f-482e-be6c-74e1f39f2228"
      },
      "execution_count": 24,
      "outputs": [
        {
          "output_type": "execute_result",
          "data": {
            "text/plain": [
              "array([2., 3., 1.])"
            ]
          },
          "metadata": {},
          "execution_count": 24
        }
      ]
    },
    {
      "cell_type": "code",
      "source": [
        "# Norm:\n",
        "\n",
        "#The size of vectors are found by using a function called norm.\n",
        "\n",
        " #   The default norm is L2 (eucledian norm), denoted by ||x||\n",
        " #   The maximum norm is used to find the absolute value of the vector with the largest magnitude\n",
        " #   The frobenius norm is used to measure the size of the matrix\n"
      ],
      "metadata": {
        "id": "0AVOBxrNjOW3"
      },
      "execution_count": 25,
      "outputs": []
    },
    {
      "cell_type": "code",
      "source": [
        "A = np.array([1,2,3])\n",
        "norm1 = np.linalg.norm(A) #defualt it takes L2 norm , we can also specify the norm \n",
        "norm2 = np.linalg.norm(A,ord=np.inf)\n",
        "#norm3 = np.linalg.norm(A,ord='fro') #results in error\n",
        "# as frobenius norm is calculated for matrices and not vectors\n",
        "print(norm1)\n",
        "print(norm2)\n",
        "#print(norm3)\n"
      ],
      "metadata": {
        "colab": {
          "base_uri": "https://localhost:8080/"
        },
        "id": "-vMRUDw1jXcY",
        "outputId": "850a0855-8c24-43bd-d534-9c1673e849ab"
      },
      "execution_count": 26,
      "outputs": [
        {
          "output_type": "stream",
          "name": "stdout",
          "text": [
            "3.7416573867739413\n",
            "3.0\n"
          ]
        }
      ]
    },
    {
      "cell_type": "code",
      "source": [
        "B = np.array([[1,2,3],[4,5,6]])\n",
        "norm3 = np.linalg.norm(B,ord=\"fro\")\n",
        "print(norm3)"
      ],
      "metadata": {
        "colab": {
          "base_uri": "https://localhost:8080/"
        },
        "id": "5d-HYp49jaol",
        "outputId": "b69d637b-55e3-4f0d-a4df-6103fac7a6bd"
      },
      "execution_count": 27,
      "outputs": [
        {
          "output_type": "stream",
          "name": "stdout",
          "text": [
            "9.539392014169456\n"
          ]
        }
      ]
    },
    {
      "cell_type": "code",
      "source": [
        "#Special Kinds of matrices and Vectors\n",
        "\n",
        "   # Diagonal matrix\n",
        "   # Symmetric matrix - the transpose of matrix is same as the matrix then its symmetric\n",
        "   # Unit matrix\n",
        "   # Orthonormal matrix\n",
        "   # Orthogonal matrix\n",
        "\n"
      ],
      "metadata": {
        "id": "tbZVZV2hjdeR"
      },
      "execution_count": 28,
      "outputs": []
    },
    {
      "cell_type": "code",
      "source": [
        "np.ones([2,2])"
      ],
      "metadata": {
        "colab": {
          "base_uri": "https://localhost:8080/"
        },
        "id": "wsmo7SIojjeN",
        "outputId": "8a9ab70d-c0a3-4b9d-86ef-54f00b43b5c1"
      },
      "execution_count": 29,
      "outputs": [
        {
          "output_type": "execute_result",
          "data": {
            "text/plain": [
              "array([[1., 1.],\n",
              "       [1., 1.]])"
            ]
          },
          "metadata": {},
          "execution_count": 29
        }
      ]
    },
    {
      "cell_type": "code",
      "source": [
        "I = np.identity(4)\n",
        "I\n"
      ],
      "metadata": {
        "colab": {
          "base_uri": "https://localhost:8080/"
        },
        "id": "Z_J3OHOgjms8",
        "outputId": "edb4a064-fbd6-4072-e690-8d997591f029"
      },
      "execution_count": 31,
      "outputs": [
        {
          "output_type": "execute_result",
          "data": {
            "text/plain": [
              "array([[1., 0., 0., 0.],\n",
              "       [0., 1., 0., 0.],\n",
              "       [0., 0., 1., 0.],\n",
              "       [0., 0., 0., 1.]])"
            ]
          },
          "metadata": {},
          "execution_count": 31
        }
      ]
    },
    {
      "cell_type": "code",
      "source": [
        "np.diag(I)"
      ],
      "metadata": {
        "colab": {
          "base_uri": "https://localhost:8080/"
        },
        "id": "iMBdcT-ujr_Y",
        "outputId": "52d28073-e843-4320-b4c9-e3ca343b7826"
      },
      "execution_count": 32,
      "outputs": [
        {
          "output_type": "execute_result",
          "data": {
            "text/plain": [
              "array([1., 1., 1., 1.])"
            ]
          },
          "metadata": {},
          "execution_count": 32
        }
      ]
    },
    {
      "cell_type": "code",
      "source": [
        "# Eigen Decomposition:\n",
        "\n",
        "#    Matrix is decomposed into set of eigenvalues and eigenvectors.\n",
        "#   Av = λv , where v is the eigenvector and λ is the eigenvalue.\n"
      ],
      "metadata": {
        "id": "bLin3F6ojxGc"
      },
      "execution_count": 33,
      "outputs": []
    },
    {
      "cell_type": "code",
      "source": [
        "A = np.random.rand(5,5)\n",
        "eig_val = np.linalg.eigvals(A)\n",
        "eig_val #eigenvalue"
      ],
      "metadata": {
        "colab": {
          "base_uri": "https://localhost:8080/"
        },
        "id": "pzY6e5qHj6hQ",
        "outputId": "2280d34b-4cbb-43da-97a0-2d6b16e7fde8"
      },
      "execution_count": 34,
      "outputs": [
        {
          "output_type": "execute_result",
          "data": {
            "text/plain": [
              "array([ 2.26882049+0.j        ,  0.28729933+0.05217042j,\n",
              "        0.28729933-0.05217042j, -0.48737185+0.j        ,\n",
              "       -0.41220256+0.j        ])"
            ]
          },
          "metadata": {},
          "execution_count": 34
        }
      ]
    },
    {
      "cell_type": "code",
      "source": [
        "eig_val,eig_vec = np.linalg.eig(A)\n",
        "eig_vec #eigen vector"
      ],
      "metadata": {
        "colab": {
          "base_uri": "https://localhost:8080/"
        },
        "id": "Or-a68lokAht",
        "outputId": "497d52e7-8db0-422c-89a4-70784cbdfab3"
      },
      "execution_count": 35,
      "outputs": [
        {
          "output_type": "execute_result",
          "data": {
            "text/plain": [
              "array([[-0.39674193+0.j        , -0.02188992-0.04411804j,\n",
              "        -0.02188992+0.04411804j, -0.17440589+0.j        ,\n",
              "        -0.00951353+0.j        ],\n",
              "       [-0.55470255+0.j        ,  0.63779945+0.j        ,\n",
              "         0.63779945-0.j        , -0.27016926+0.j        ,\n",
              "         0.19209723+0.j        ],\n",
              "       [-0.4310433 +0.j        ,  0.51650196-0.13619387j,\n",
              "         0.51650196+0.13619387j,  0.71141429+0.j        ,\n",
              "        -0.67901635+0.j        ],\n",
              "       [-0.46775879+0.j        , -0.37017913+0.10350746j,\n",
              "        -0.37017913-0.10350746j,  0.40196772+0.j        ,\n",
              "        -0.36361191+0.j        ],\n",
              "       [-0.36097688+0.j        , -0.38652879+0.09117211j,\n",
              "        -0.38652879-0.09117211j, -0.4784379 +0.j        ,\n",
              "         0.60805536+0.j        ]])"
            ]
          },
          "metadata": {},
          "execution_count": 35
        }
      ]
    },
    {
      "cell_type": "code",
      "source": [
        "#Single Value Decomposition:\n",
        "\n",
        " #   If a matrix is not square then we should use this method instead of eigen decomposition as it is not defined\n"
      ],
      "metadata": {
        "id": "uO_28c0RkGUS"
      },
      "execution_count": 36,
      "outputs": []
    },
    {
      "cell_type": "code",
      "source": [
        "A = np.arange(24).reshape(4,6)\n",
        "A"
      ],
      "metadata": {
        "colab": {
          "base_uri": "https://localhost:8080/"
        },
        "id": "9q3WMDzVkLAM",
        "outputId": "28ee6354-b8a2-4bc0-9a13-e07b08c59bc1"
      },
      "execution_count": 37,
      "outputs": [
        {
          "output_type": "execute_result",
          "data": {
            "text/plain": [
              "array([[ 0,  1,  2,  3,  4,  5],\n",
              "       [ 6,  7,  8,  9, 10, 11],\n",
              "       [12, 13, 14, 15, 16, 17],\n",
              "       [18, 19, 20, 21, 22, 23]])"
            ]
          },
          "metadata": {},
          "execution_count": 37
        }
      ]
    },
    {
      "cell_type": "code",
      "source": [
        "U,s,vh = np.linalg.svd(A,full_matrices=True) #full_matrices is optional\n",
        "print(\"U=\",U,\"\\n\",\"s=\",s,\"\\n\",\"vh=\",vh)"
      ],
      "metadata": {
        "colab": {
          "base_uri": "https://localhost:8080/"
        },
        "id": "2Og6oyoTkNvp",
        "outputId": "3cb1260a-c73c-413b-e228-0211b81946a4"
      },
      "execution_count": 38,
      "outputs": [
        {
          "output_type": "stream",
          "name": "stdout",
          "text": [
            "U= [[-0.09979291 -0.83068729 -0.40715931 -0.36636225]\n",
            " [-0.32237784 -0.44280078  0.26980878  0.79196163]\n",
            " [-0.54496277 -0.05491426  0.68186037 -0.48483651]\n",
            " [-0.76754771  0.33297225 -0.54450984  0.05923713]] \n",
            " s= [6.56235089e+01 4.18987869e+00 3.37349797e-15 5.88754515e-16] \n",
            " vh= [[-0.33965997 -0.36609381 -0.39252765 -0.41896148 -0.44539532 -0.47182916]\n",
            " [ 0.6390936   0.40151391  0.16393422 -0.07364547 -0.31122516 -0.54880485]\n",
            " [ 0.38004339 -0.51347474 -0.3869646   0.64859118  0.01739346 -0.14558869]\n",
            " [-0.09997007  0.25663017 -0.37194951 -0.0829683   0.7551148  -0.45685709]\n",
            " [-0.5663029   0.25060266  0.26550379  0.61008706 -0.18758162 -0.37230899]\n",
            " [-0.03262685  0.55896768 -0.67857742  0.13887814 -0.31476046  0.32811892]]\n"
          ]
        }
      ]
    },
    {
      "cell_type": "code",
      "source": [
        "#Moore-Penrose Pseudoinverse:\n",
        "\n",
        "  #  Used to find the inverse of non invertible matrices.\n",
        "  # Inverse to used to solve a system of equations.\n",
        "  #  therefore by using this we will be able to find a value which is almost the solution.\n"
      ],
      "metadata": {
        "id": "2Q-wAWsRkRLP"
      },
      "execution_count": 39,
      "outputs": []
    },
    {
      "cell_type": "code",
      "source": [
        "M = np.arange(6).reshape(2,3)\n",
        "M"
      ],
      "metadata": {
        "colab": {
          "base_uri": "https://localhost:8080/"
        },
        "id": "CuwmZfrEkWev",
        "outputId": "eccf9509-6562-4f23-fa1e-169e6fa30bda"
      },
      "execution_count": 40,
      "outputs": [
        {
          "output_type": "execute_result",
          "data": {
            "text/plain": [
              "array([[0, 1, 2],\n",
              "       [3, 4, 5]])"
            ]
          },
          "metadata": {},
          "execution_count": 40
        }
      ]
    },
    {
      "cell_type": "code",
      "source": [
        "#moore penrose pseudo inverse\n",
        "M1 = np.linalg.pinv(M)\n",
        "M1"
      ],
      "metadata": {
        "colab": {
          "base_uri": "https://localhost:8080/"
        },
        "id": "JRwpM_-okY21",
        "outputId": "c54b5828-a969-4751-de6b-40a5f76840e3"
      },
      "execution_count": 41,
      "outputs": [
        {
          "output_type": "execute_result",
          "data": {
            "text/plain": [
              "array([[-0.77777778,  0.27777778],\n",
              "       [-0.11111111,  0.11111111],\n",
              "       [ 0.55555556, -0.05555556]])"
            ]
          },
          "metadata": {},
          "execution_count": 41
        }
      ]
    },
    {
      "cell_type": "code",
      "source": [
        "M1.dot(M) #which gives a result which is quite close to the pseudo inverse."
      ],
      "metadata": {
        "colab": {
          "base_uri": "https://localhost:8080/"
        },
        "id": "GJh165J2kbud",
        "outputId": "b40d0135-63c1-412d-f7b5-e26398fe7411"
      },
      "execution_count": 42,
      "outputs": [
        {
          "output_type": "execute_result",
          "data": {
            "text/plain": [
              "array([[ 0.83333333,  0.33333333, -0.16666667],\n",
              "       [ 0.33333333,  0.33333333,  0.33333333],\n",
              "       [-0.16666667,  0.33333333,  0.83333333]])"
            ]
          },
          "metadata": {},
          "execution_count": 42
        }
      ]
    },
    {
      "cell_type": "code",
      "source": [
        "# Trace Operator:\n",
        "\n",
        "#    Trace is the sum of all the elements in the diagonal of the square matrix.\n",
        "#    trace of matrix is equal to its transpose\n"
      ],
      "metadata": {
        "id": "PmIawrdHkeHM"
      },
      "execution_count": 43,
      "outputs": []
    },
    {
      "cell_type": "code",
      "source": [
        "M2 = np.arange(9).reshape(3,3)\n",
        "M2"
      ],
      "metadata": {
        "colab": {
          "base_uri": "https://localhost:8080/"
        },
        "id": "N6IgJgRyklSS",
        "outputId": "709f79a8-2ce7-45ab-84de-a2929d27c484"
      },
      "execution_count": 44,
      "outputs": [
        {
          "output_type": "execute_result",
          "data": {
            "text/plain": [
              "array([[0, 1, 2],\n",
              "       [3, 4, 5],\n",
              "       [6, 7, 8]])"
            ]
          },
          "metadata": {},
          "execution_count": 44
        }
      ]
    },
    {
      "cell_type": "code",
      "source": [
        "trace1 = M2.trace()\n",
        "trace1"
      ],
      "metadata": {
        "colab": {
          "base_uri": "https://localhost:8080/"
        },
        "id": "8AIXsC2Gkn14",
        "outputId": "200fd1d9-c4e4-4cab-bc25-834b0652d067"
      },
      "execution_count": 45,
      "outputs": [
        {
          "output_type": "execute_result",
          "data": {
            "text/plain": [
              "12"
            ]
          },
          "metadata": {},
          "execution_count": 45
        }
      ]
    },
    {
      "cell_type": "code",
      "source": [
        "#Determinant:\n",
        "\n",
        " #   it is equal to the products of all the eigenvalues in the matrices.\n",
        " #   The determinant lets us know about the transformations of the matrix.\n"
      ],
      "metadata": {
        "id": "7SS1zWnTkq8J"
      },
      "execution_count": 46,
      "outputs": []
    },
    {
      "cell_type": "code",
      "source": [
        "A = np.ones(4).reshape(2,2)\n",
        "A"
      ],
      "metadata": {
        "colab": {
          "base_uri": "https://localhost:8080/"
        },
        "id": "-RJsOJqukwRv",
        "outputId": "81ae7288-e739-4e7c-b78f-fdf8a0bfd792"
      },
      "execution_count": 47,
      "outputs": [
        {
          "output_type": "execute_result",
          "data": {
            "text/plain": [
              "array([[1., 1.],\n",
              "       [1., 1.]])"
            ]
          },
          "metadata": {},
          "execution_count": 47
        }
      ]
    },
    {
      "cell_type": "code",
      "source": [
        "A_det = np.linalg.det(A)\n",
        "A_det"
      ],
      "metadata": {
        "colab": {
          "base_uri": "https://localhost:8080/"
        },
        "id": "dH_y3ZAskzM6",
        "outputId": "666c5199-d1b6-4524-8eac-0c5dd72a0f05"
      },
      "execution_count": 48,
      "outputs": [
        {
          "output_type": "execute_result",
          "data": {
            "text/plain": [
              "0.0"
            ]
          },
          "metadata": {},
          "execution_count": 48
        }
      ]
    },
    {
      "cell_type": "code",
      "source": [
        "#Principal Component Analysis:\n",
        "\n",
        "    "
      ],
      "metadata": {
        "id": "hrjo9kR6k2CA"
      },
      "execution_count": 49,
      "outputs": []
    },
    {
      "cell_type": "code",
      "source": [
        "M = np.arange(12).reshape(4,3) #defining the data \n",
        "M\n"
      ],
      "metadata": {
        "colab": {
          "base_uri": "https://localhost:8080/"
        },
        "id": "UUBfVHKRk7hl",
        "outputId": "8f0cd02d-36de-45b1-bd92-da5b4f62e81a"
      },
      "execution_count": 50,
      "outputs": [
        {
          "output_type": "execute_result",
          "data": {
            "text/plain": [
              "array([[ 0,  1,  2],\n",
              "       [ 3,  4,  5],\n",
              "       [ 6,  7,  8],\n",
              "       [ 9, 10, 11]])"
            ]
          },
          "metadata": {},
          "execution_count": 50
        }
      ]
    },
    {
      "cell_type": "code",
      "source": [
        "M_mean = np.mean(M.T, axis=1)#calculate the mean of each column\n",
        "M_mean"
      ],
      "metadata": {
        "colab": {
          "base_uri": "https://localhost:8080/"
        },
        "id": "GLnAydUNk9zy",
        "outputId": "affb8478-d0b2-4504-f974-8e60565e3463"
      },
      "execution_count": 51,
      "outputs": [
        {
          "output_type": "execute_result",
          "data": {
            "text/plain": [
              "array([4.5, 5.5, 6.5])"
            ]
          },
          "metadata": {},
          "execution_count": 51
        }
      ]
    },
    {
      "cell_type": "code",
      "source": [
        "M_center = M - M_mean #centering the columns by subtracting column means\n",
        "M_center"
      ],
      "metadata": {
        "colab": {
          "base_uri": "https://localhost:8080/"
        },
        "id": "oXU6-kgek_6c",
        "outputId": "4ec6d3b6-54b9-414c-d78c-f8a87221dd71"
      },
      "execution_count": 52,
      "outputs": [
        {
          "output_type": "execute_result",
          "data": {
            "text/plain": [
              "array([[-4.5, -4.5, -4.5],\n",
              "       [-1.5, -1.5, -1.5],\n",
              "       [ 1.5,  1.5,  1.5],\n",
              "       [ 4.5,  4.5,  4.5]])"
            ]
          },
          "metadata": {},
          "execution_count": 52
        }
      ]
    },
    {
      "cell_type": "code",
      "source": [
        "M_cov = np.cov(M_center.T)# covariance matrix of the centered matrix\n",
        "M_cov"
      ],
      "metadata": {
        "colab": {
          "base_uri": "https://localhost:8080/"
        },
        "id": "krxp1ybSlCAa",
        "outputId": "9815a482-1d07-44b0-b02a-b2fbf01ea34b"
      },
      "execution_count": 53,
      "outputs": [
        {
          "output_type": "execute_result",
          "data": {
            "text/plain": [
              "array([[15., 15., 15.],\n",
              "       [15., 15., 15.],\n",
              "       [15., 15., 15.]])"
            ]
          },
          "metadata": {},
          "execution_count": 53
        }
      ]
    },
    {
      "cell_type": "code",
      "source": [
        "eig_val,eig_vec = np.linalg.eig(M_cov) # finding the eigenvalues and eigenvectors\n",
        "print(f\"Eigenvalues={eig_val}\\nEigenvectors={eig_vec}\")"
      ],
      "metadata": {
        "colab": {
          "base_uri": "https://localhost:8080/"
        },
        "id": "k89dAr6mlEG7",
        "outputId": "60a74493-8610-45dd-bc78-cf3eb14936da"
      },
      "execution_count": 54,
      "outputs": [
        {
          "output_type": "stream",
          "name": "stdout",
          "text": [
            "Eigenvalues=[ 0. 45.  0.]\n",
            "Eigenvectors=[[-0.81649658  0.57735027  0.        ]\n",
            " [ 0.40824829  0.57735027 -0.70710678]\n",
            " [ 0.40824829  0.57735027  0.70710678]]\n"
          ]
        }
      ]
    },
    {
      "cell_type": "code",
      "source": [
        "#projecting the reduced data\n",
        "M_red = eig_vec.T.dot(M_center.T)\n",
        "M_red.T # transposing the matrix for easier understanding"
      ],
      "metadata": {
        "colab": {
          "base_uri": "https://localhost:8080/"
        },
        "id": "qjugKW2llHTk",
        "outputId": "5d38521c-fdae-4e19-d0f8-2fde8528ec7b"
      },
      "execution_count": 55,
      "outputs": [
        {
          "output_type": "execute_result",
          "data": {
            "text/plain": [
              "array([[ 4.99600361e-16, -7.79422863e+00, -2.77555756e-16],\n",
              "       [ 1.66533454e-16, -2.59807621e+00, -1.66533454e-16],\n",
              "       [-1.66533454e-16,  2.59807621e+00,  1.66533454e-16],\n",
              "       [-4.99600361e-16,  7.79422863e+00,  2.77555756e-16]])"
            ]
          },
          "metadata": {},
          "execution_count": 55
        }
      ]
    },
    {
      "cell_type": "code",
      "source": [
        "from sklearn.decomposition import PCA\n",
        "pca = PCA(3) # creating an instance\n",
        "pca.fit(M)\n",
        "M_red1 = pca.transform(M)\n",
        "M_red1"
      ],
      "metadata": {
        "colab": {
          "base_uri": "https://localhost:8080/"
        },
        "id": "v-86v2V4lJ5y",
        "outputId": "e46fce24-1a97-44d0-bd96-8ef76bca28bd"
      },
      "execution_count": 56,
      "outputs": [
        {
          "output_type": "execute_result",
          "data": {
            "text/plain": [
              "array([[-7.79422863e+00, -1.66533454e-15, -2.16493490e-15],\n",
              "       [-2.59807621e+00, -5.55111512e-16, -4.99600361e-16],\n",
              "       [ 2.59807621e+00,  5.55111512e-16,  4.99600361e-16],\n",
              "       [ 7.79422863e+00,  1.66533454e-15,  2.16493490e-15]])"
            ]
          },
          "metadata": {},
          "execution_count": 56
        }
      ]
    },
    {
      "cell_type": "code",
      "source": [],
      "metadata": {
        "id": "3qECFLPZlMQ1"
      },
      "execution_count": null,
      "outputs": []
    }
  ]
}